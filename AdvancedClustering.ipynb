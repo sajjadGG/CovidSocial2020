{
 "cells": [
  {
   "cell_type": "code",
   "execution_count": 1,
   "metadata": {},
   "outputs": [],
   "source": [
    "import numpy as np\n",
    "import pandas as pd\n",
    "import matplotlib.pyplot as plt"
   ]
  },
  {
   "cell_type": "code",
   "execution_count": 2,
   "metadata": {},
   "outputs": [
    {
     "data": {
      "text/html": [
       "<div>\n",
       "<style scoped>\n",
       "    .dataframe tbody tr th:only-of-type {\n",
       "        vertical-align: middle;\n",
       "    }\n",
       "\n",
       "    .dataframe tbody tr th {\n",
       "        vertical-align: top;\n",
       "    }\n",
       "\n",
       "    .dataframe thead th {\n",
       "        text-align: right;\n",
       "    }\n",
       "</style>\n",
       "<table border=\"1\" class=\"dataframe\">\n",
       "  <thead>\n",
       "    <tr style=\"text-align: right;\">\n",
       "      <th></th>\n",
       "      <th>0</th>\n",
       "      <th>1</th>\n",
       "      <th>2</th>\n",
       "      <th>3</th>\n",
       "      <th>4</th>\n",
       "      <th>5</th>\n",
       "      <th>6</th>\n",
       "      <th>7</th>\n",
       "      <th>8</th>\n",
       "      <th>9</th>\n",
       "      <th>10</th>\n",
       "      <th>11</th>\n",
       "      <th>12</th>\n",
       "      <th>13</th>\n",
       "      <th>14</th>\n",
       "      <th>15</th>\n",
       "    </tr>\n",
       "  </thead>\n",
       "  <tbody>\n",
       "    <tr>\n",
       "      <th>0</th>\n",
       "      <td>0</td>\n",
       "      <td>0</td>\n",
       "      <td>\"\"</td>\n",
       "      <td>\"\"</td>\n",
       "      <td>\"\"</td>\n",
       "      <td>1470337707</td>\n",
       "      <td>\"\"</td>\n",
       "      <td>1470337707_6684</td>\n",
       "      <td>\"\"</td>\n",
       "      <td>\"کرونا کرونا کرونا\"</td>\n",
       "      <td>\"کرونا کرونا کرونا\"</td>\n",
       "      <td>1398-11-13 20:40:13</td>\n",
       "      <td>1580663413</td>\n",
       "      <td>\"1\"</td>\n",
       "      <td>کرونا کرونا کرونا</td>\n",
       "      <td>['کرونا', 'کرونا', 'کرونا']</td>\n",
       "    </tr>\n",
       "    <tr>\n",
       "      <th>1</th>\n",
       "      <td>2</td>\n",
       "      <td>2</td>\n",
       "      <td>\"\"</td>\n",
       "      <td>\"یارانه\"</td>\n",
       "      <td>\"\"</td>\n",
       "      <td>1462058741</td>\n",
       "      <td>\"\"</td>\n",
       "      <td>1462058741_58843</td>\n",
       "      <td>\"ابراز علاقه\"</td>\n",
       "      <td>\"‌ ‌ ‌‌‌ ‌ کرونا کرونا ~~~~ چی میگی میگم دوست ...</td>\n",
       "      <td>\"کرونا کرونا چی میگی میگم دوست دارم چصو کرونا ...</td>\n",
       "      <td>1398-11-18 20:39:02</td>\n",
       "      <td>1581095342</td>\n",
       "      <td>\"2\"</td>\n",
       "      <td>کرونا کرونا چی میگی میگم دوست دارم چصو کرونا ک...</td>\n",
       "      <td>['کرونا', 'کرونا', 'چی', 'میگ', 'میگ', 'دوست',...</td>\n",
       "    </tr>\n",
       "    <tr>\n",
       "      <th>2</th>\n",
       "      <td>3</td>\n",
       "      <td>3</td>\n",
       "      <td>\"\"</td>\n",
       "      <td>\"\"</td>\n",
       "      <td>\"\"</td>\n",
       "      <td>1497732081</td>\n",
       "      <td>\"\"</td>\n",
       "      <td>1497732081_549</td>\n",
       "      <td>\"\"</td>\n",
       "      <td>\"😷کرونا اینجا کرونا اونجا کرونا همه جا.\"</td>\n",
       "      <td>\"کرونا اینجا کرونا اونجا کرونا همه جا\"</td>\n",
       "      <td>1398-11-14 16:47:33</td>\n",
       "      <td>1580735853</td>\n",
       "      <td>\"57\"</td>\n",
       "      <td>کرونا اینجا کرونا اونجا کرونا همه جا</td>\n",
       "      <td>['کرونا', 'اینجا', 'کرونا', 'اونجا', 'کرونا', ...</td>\n",
       "    </tr>\n",
       "    <tr>\n",
       "      <th>3</th>\n",
       "      <td>4</td>\n",
       "      <td>4</td>\n",
       "      <td>\"\"</td>\n",
       "      <td>\"\"</td>\n",
       "      <td>\"\"</td>\n",
       "      <td>1022917137</td>\n",
       "      <td>\"ranginak97\"</td>\n",
       "      <td>1022917137_116487</td>\n",
       "      <td>\"\"</td>\n",
       "      <td>\"😷کرونا اینجا کرونا اونجا کرونا همه جا. 💉آزمای...</td>\n",
       "      <td>\"کرونا اینجا کرونا اونجا کرونا همه جا ازمایش و...</td>\n",
       "      <td>1398-11-12 14:49:57</td>\n",
       "      <td>1580555997</td>\n",
       "      <td>\"168\"</td>\n",
       "      <td>کرونا اینجا کرونا اونجا کرونا همه جا ازمایش وا...</td>\n",
       "      <td>['کرونا', 'اینجا', 'کرونا', 'اونجا', 'کرونا', ...</td>\n",
       "    </tr>\n",
       "    <tr>\n",
       "      <th>4</th>\n",
       "      <td>5</td>\n",
       "      <td>5</td>\n",
       "      <td>\"\"</td>\n",
       "      <td>\"\"</td>\n",
       "      <td>\"\"</td>\n",
       "      <td>1204349583</td>\n",
       "      <td>\"\"</td>\n",
       "      <td>1204349583_6792</td>\n",
       "      <td>\"حالت تهوع\"</td>\n",
       "      <td>\"‏-وای چقدر سرم درد می کنه +کرونا گرفتی -حالت ...</td>\n",
       "      <td>\"وای چقدر سرم درد می کنه کرونا گرفتی حالت تهوع...</td>\n",
       "      <td>1398-11-14 13:25:34</td>\n",
       "      <td>1580723734</td>\n",
       "      <td>\"8\"</td>\n",
       "      <td>وای چقدر سرم درد می کنه کرونا گرفتی حالت تهوع ...</td>\n",
       "      <td>['وای', 'چقدر', 'سرم', 'درد', 'می', 'کنه', 'کر...</td>\n",
       "    </tr>\n",
       "  </tbody>\n",
       "</table>\n",
       "</div>"
      ],
      "text/plain": [
       "   0   1   2         3   4           5             6                  7   \\\n",
       "0   0   0  \"\"        \"\"  \"\"  1470337707            \"\"    1470337707_6684   \n",
       "1   2   2  \"\"  \"یارانه\"  \"\"  1462058741            \"\"   1462058741_58843   \n",
       "2   3   3  \"\"        \"\"  \"\"  1497732081            \"\"     1497732081_549   \n",
       "3   4   4  \"\"        \"\"  \"\"  1022917137  \"ranginak97\"  1022917137_116487   \n",
       "4   5   5  \"\"        \"\"  \"\"  1204349583            \"\"    1204349583_6792   \n",
       "\n",
       "              8                                                  9   \\\n",
       "0             \"\"                                \"کرونا کرونا کرونا\"   \n",
       "1  \"ابراز علاقه\"  \"‌ ‌ ‌‌‌ ‌ کرونا کرونا ~~~~ چی میگی میگم دوست ...   \n",
       "2             \"\"           \"😷کرونا اینجا کرونا اونجا کرونا همه جا.\"   \n",
       "3             \"\"  \"😷کرونا اینجا کرونا اونجا کرونا همه جا. 💉آزمای...   \n",
       "4    \"حالت تهوع\"  \"‏-وای چقدر سرم درد می کنه +کرونا گرفتی -حالت ...   \n",
       "\n",
       "                                                  10                   11  \\\n",
       "0                                \"کرونا کرونا کرونا\"  1398-11-13 20:40:13   \n",
       "1  \"کرونا کرونا چی میگی میگم دوست دارم چصو کرونا ...  1398-11-18 20:39:02   \n",
       "2             \"کرونا اینجا کرونا اونجا کرونا همه جا\"  1398-11-14 16:47:33   \n",
       "3  \"کرونا اینجا کرونا اونجا کرونا همه جا ازمایش و...  1398-11-12 14:49:57   \n",
       "4  \"وای چقدر سرم درد می کنه کرونا گرفتی حالت تهوع...  1398-11-14 13:25:34   \n",
       "\n",
       "           12     13                                                 14  \\\n",
       "0  1580663413    \"1\"                                  کرونا کرونا کرونا   \n",
       "1  1581095342    \"2\"  کرونا کرونا چی میگی میگم دوست دارم چصو کرونا ک...   \n",
       "2  1580735853   \"57\"               کرونا اینجا کرونا اونجا کرونا همه جا   \n",
       "3  1580555997  \"168\"  کرونا اینجا کرونا اونجا کرونا همه جا ازمایش وا...   \n",
       "4  1580723734    \"8\"  وای چقدر سرم درد می کنه کرونا گرفتی حالت تهوع ...   \n",
       "\n",
       "                                                  15  \n",
       "0                        ['کرونا', 'کرونا', 'کرونا']  \n",
       "1  ['کرونا', 'کرونا', 'چی', 'میگ', 'میگ', 'دوست',...  \n",
       "2  ['کرونا', 'اینجا', 'کرونا', 'اونجا', 'کرونا', ...  \n",
       "3  ['کرونا', 'اینجا', 'کرونا', 'اونجا', 'کرونا', ...  \n",
       "4  ['وای', 'چقدر', 'سرم', 'درد', 'می', 'کنه', 'کر...  "
      ]
     },
     "execution_count": 2,
     "metadata": {},
     "output_type": "execute_result"
    }
   ],
   "source": [
    "df = pd.read_csv(\"Fulldocumentword2.csv\" , header=None)\n",
    "df.head()"
   ]
  },
  {
   "cell_type": "code",
   "execution_count": 3,
   "metadata": {},
   "outputs": [
    {
     "data": {
      "text/plain": [
       "0                               ['کرونا', 'کرونا', 'کرونا']\n",
       "1         ['کرونا', 'کرونا', 'چی', 'میگ', 'میگ', 'دوست',...\n",
       "2         ['کرونا', 'اینجا', 'کرونا', 'اونجا', 'کرونا', ...\n",
       "3         ['کرونا', 'اینجا', 'کرونا', 'اونجا', 'کرونا', ...\n",
       "4         ['وای', 'چقدر', 'سرم', 'درد', 'می', 'کنه', 'کر...\n",
       "                                ...                        \n",
       "182506    ['قدردانی', 'مامور', 'پلیس', 'ووهان', 'از', 'ت...\n",
       "182507    ['دو', 'سخنرانی', 'در', 'تهران', 'و', 'واشنگتن...\n",
       "182508    ['اخ', 'سفید', 'قرار', 'داشت&دارد', 'که', 'نوس...\n",
       "182509    ['روز', 'اول', 'سفر', 'چند', 'سال', 'بود&باش',...\n",
       "182510    ['ری', 'نه', 'تنها', 'به', 'اثبات', 'رسیده', '...\n",
       "Name: 15, Length: 182511, dtype: object"
      ]
     },
     "execution_count": 3,
     "metadata": {},
     "output_type": "execute_result"
    }
   ],
   "source": [
    "df[df.columns[-1]]"
   ]
  },
  {
   "cell_type": "code",
   "execution_count": 4,
   "metadata": {},
   "outputs": [],
   "source": [
    "from sklearn.feature_extraction.text import CountVectorizer"
   ]
  },
  {
   "cell_type": "code",
   "execution_count": 5,
   "metadata": {},
   "outputs": [],
   "source": [
    "count_vect = CountVectorizer()\n",
    "X_train_counts = count_vect.fit_transform(df[df.columns[-1]])"
   ]
  },
  {
   "cell_type": "code",
   "execution_count": 6,
   "metadata": {},
   "outputs": [
    {
     "data": {
      "text/plain": [
       "(182511, 50549)"
      ]
     },
     "execution_count": 6,
     "metadata": {},
     "output_type": "execute_result"
    }
   ],
   "source": [
    "X_train_counts.shape"
   ]
  },
  {
   "cell_type": "code",
   "execution_count": 7,
   "metadata": {},
   "outputs": [],
   "source": [
    "def spy_sparse2torch_sparse(data):\n",
    "    \"\"\"\n",
    "\n",
    "    :param data: a scipy sparse csr matrix\n",
    "    :return: a sparse torch tensor\n",
    "    \"\"\"\n",
    "    samples=data.shape[0]\n",
    "    features=data.shape[1]\n",
    "    values=data.data\n",
    "    coo_data=data.tocoo()\n",
    "    indices=torch.LongTensor([coo_data.row,coo_data.col])\n",
    "    t=torch.sparse.FloatTensor(indices,torch.from_numpy(values).float(),[samples,features])\n",
    "    return t"
   ]
  },
  {
   "cell_type": "markdown",
   "metadata": {},
   "source": [
    "## AutoEncoder"
   ]
  },
  {
   "cell_type": "code",
   "execution_count": 8,
   "metadata": {},
   "outputs": [],
   "source": [
    "import torch\n",
    "import torchvision\n",
    "from torch import nn\n",
    "from torch.autograd import Variable\n",
    "from torch.utils.data import DataLoader\n",
    "from torchvision import transforms\n",
    "from torchvision.datasets import MNIST\n",
    "from torchvision.utils import save_image"
   ]
  },
  {
   "cell_type": "code",
   "execution_count": 9,
   "metadata": {},
   "outputs": [
    {
     "data": {
      "text/plain": [
       "'GeForce GTX 1070'"
      ]
     },
     "execution_count": 9,
     "metadata": {},
     "output_type": "execute_result"
    }
   ],
   "source": [
    "# torch.cuda.is_available()\n",
    "device = torch.device(\"cuda:0\")\n",
    "# device\n",
    "\n",
    "torch.cuda.set_device(0)\n",
    "\n",
    "# torch.cuda.current_device()\n",
    "# torch.cuda.device_count()\n",
    "\n",
    "torch.cuda.get_device_name(torch.cuda.current_device())"
   ]
  },
  {
   "cell_type": "code",
   "execution_count": 10,
   "metadata": {},
   "outputs": [],
   "source": [
    "input_dim = X_train_counts.shape[1]\n",
    "encoding_dim = 32\n"
   ]
  },
  {
   "cell_type": "code",
   "execution_count": 11,
   "metadata": {},
   "outputs": [
    {
     "data": {
      "text/plain": [
       "50549"
      ]
     },
     "execution_count": 11,
     "metadata": {},
     "output_type": "execute_result"
    }
   ],
   "source": [
    "input_dim"
   ]
  },
  {
   "cell_type": "code",
   "execution_count": 12,
   "metadata": {},
   "outputs": [],
   "source": [
    "num_epochs = 10\n",
    "batch_size = 2048\n",
    "learning_rate = 1e-3"
   ]
  },
  {
   "cell_type": "code",
   "execution_count": 13,
   "metadata": {},
   "outputs": [],
   "source": [
    "\n",
    "data = spy_sparse2torch_sparse(X_train_counts)"
   ]
  },
  {
   "cell_type": "code",
   "execution_count": 14,
   "metadata": {},
   "outputs": [],
   "source": [
    "dataloader = DataLoader(data, batch_size=batch_size, shuffle=True)"
   ]
  },
  {
   "cell_type": "code",
   "execution_count": 16,
   "metadata": {},
   "outputs": [],
   "source": [
    "# class autoencoder(nn.Module):\n",
    "#     def __init__(self):\n",
    "#         super(autoencoder , self).__init__()\n",
    "        \n",
    "#         self.encoder = nn.Sequential(\n",
    "#             nn.Linear(input_dim , 512),\n",
    "#             nn.ReLU(True),\n",
    "#             nn.Linear(512 , 256),\n",
    "#             nn.ReLU(True),\n",
    "#             nn.Linear(256 , encoding_dim))\n",
    "        \n",
    "#         self.decoder = nn.Sequential(\n",
    "#             nn.Linear(encoding_dim , 256),\n",
    "#             nn.ReLU(True),\n",
    "#             nn.Linear(256 , 512),\n",
    "#             nn.ReLU(True),\n",
    "#             nn.Linear(512 , input_dim),\n",
    "#             nn.Tanh())\n",
    "        \n",
    "#     def forward(self , x):\n",
    "#         x = self.encoder(x)\n",
    "#         x = self.decoder(x)\n",
    "#         return x\n",
    "    \n",
    "class autoencoder(nn.Module):\n",
    "    def __init__(self):\n",
    "        super(autoencoder , self).__init__()\n",
    "        \n",
    "        self.encoder = nn.Sequential(\n",
    "            nn.Linear(input_dim , 64),\n",
    "            nn.ReLU(True),\n",
    "            nn.Linear(64 , encoding_dim))\n",
    "        \n",
    "        self.decoder = nn.Sequential(\n",
    "            nn.Linear(encoding_dim , 64),\n",
    "            nn.ReLU(True),\n",
    "            nn.Linear(64 , input_dim),\n",
    "            nn.Tanh())\n",
    "        \n",
    "    def forward(self , x):\n",
    "        x = self.encoder(x)\n",
    "        x = self.decoder(x)\n",
    "        return x\n",
    "    "
   ]
  },
  {
   "cell_type": "code",
   "execution_count": null,
   "metadata": {},
   "outputs": [],
   "source": []
  },
  {
   "cell_type": "code",
   "execution_count": 17,
   "metadata": {},
   "outputs": [
    {
     "data": {
      "text/plain": [
       "tensor([0.4965], device='cuda:0')"
      ]
     },
     "execution_count": 17,
     "metadata": {},
     "output_type": "execute_result"
    }
   ],
   "source": [
    "import time\n",
    "torch.rand(1).to(device)"
   ]
  },
  {
   "cell_type": "code",
   "execution_count": null,
   "metadata": {},
   "outputs": [
    {
     "name": "stdout",
     "output_type": "stream",
     "text": [
      "in\n",
      "time pased 0.15706753730773926 to process torch.Size([2048, 50549])\n",
      "time pased 0.14554405212402344 to process torch.Size([2048, 50549])\n",
      "time pased 0.1360321044921875 to process torch.Size([2048, 50549])\n",
      "time pased 0.13303041458129883 to process torch.Size([2048, 50549])\n",
      "time pased 0.13002896308898926 to process torch.Size([2048, 50549])\n",
      "time pased 0.13703083992004395 to process torch.Size([2048, 50549])\n",
      "time pased 0.13403010368347168 to process torch.Size([2048, 50549])\n",
      "time pased 0.13202953338623047 to process torch.Size([2048, 50549])\n",
      "time pased 0.13102936744689941 to process torch.Size([2048, 50549])\n",
      "epoch [1/10] , loss:0.003862112294882536\n",
      "in\n",
      "time pased 0.1470327377319336 to process torch.Size([2048, 50549])\n",
      "time pased 0.13402986526489258 to process torch.Size([2048, 50549])\n",
      "time pased 0.13503050804138184 to process torch.Size([2048, 50549])\n",
      "time pased 0.13302993774414062 to process torch.Size([2048, 50549])\n",
      "time pased 0.13202953338623047 to process torch.Size([2048, 50549])\n",
      "time pased 0.138031005859375 to process torch.Size([2048, 50549])\n",
      "time pased 0.13103008270263672 to process torch.Size([2048, 50549])\n",
      "time pased 0.1360304355621338 to process torch.Size([2048, 50549])\n",
      "time pased 0.13202977180480957 to process torch.Size([2048, 50549])\n",
      "epoch [2/10] , loss:0.003606795333325863\n",
      "in\n",
      "time pased 0.14603281021118164 to process torch.Size([2048, 50549])\n"
     ]
    }
   ],
   "source": [
    "from torchsummary import summary\n",
    "\n",
    "model = autoencoder().cuda()\n",
    "#print(summary(model, (input_dim,) ))\n",
    "criterion = nn.MSELoss()\n",
    "optimizer = torch.optim.Adam(\n",
    "    model.parameters() , lr = learning_rate , weight_decay=1e-5)\n",
    "\n",
    "for epoch in range(num_epochs):\n",
    "    print(\"in\")\n",
    "    i=0\n",
    "    for data in dataloader:\n",
    "        t = time.time();\n",
    "        inpx = data.to_dense()\n",
    "        inpx = Variable(inpx).cuda()#using gpu vram\n",
    "        \n",
    "        #-----------forward-----------\n",
    "        output = model(inpx)\n",
    "        loss = criterion(output , inpx)\n",
    "        \n",
    "        #-------------backward--------\n",
    "        optimizer.zero_grad()\n",
    "        loss.backward()\n",
    "        optimizer.step()\n",
    "        if(i%10==0):\n",
    "            print(\"time pased {} to process {}\".format(time.time()-t , data.shape))\n",
    "        i+=1\n",
    "    #------------log-----------------\n",
    "    print(\"epoch [{}/{}] , loss:{}\".\n",
    "          format(epoch+1 , num_epochs,loss))\n",
    "        \n",
    "        "
   ]
  },
  {
   "cell_type": "code",
   "execution_count": 23,
   "metadata": {},
   "outputs": [
    {
     "data": {
      "text/plain": [
       "89.11669921875"
      ]
     },
     "execution_count": 23,
     "metadata": {},
     "output_type": "execute_result"
    }
   ],
   "source": [
    "X_train_counts.shape[0]/2048\n"
   ]
  },
  {
   "cell_type": "code",
   "execution_count": null,
   "metadata": {},
   "outputs": [],
   "source": []
  }
 ],
 "metadata": {
  "kernelspec": {
   "display_name": "Python 3",
   "language": "python",
   "name": "python3"
  },
  "language_info": {
   "codemirror_mode": {
    "name": "ipython",
    "version": 3
   },
   "file_extension": ".py",
   "mimetype": "text/x-python",
   "name": "python",
   "nbconvert_exporter": "python",
   "pygments_lexer": "ipython3",
   "version": "3.7.9"
  }
 },
 "nbformat": 4,
 "nbformat_minor": 4
}
