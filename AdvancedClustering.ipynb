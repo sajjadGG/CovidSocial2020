{
 "cells": [
  {
   "cell_type": "code",
   "execution_count": 1,
   "metadata": {},
   "outputs": [],
   "source": [
    "import numpy as np\n",
    "import pandas as pd\n",
    "import matplotlib.pyplot as plt"
   ]
  },
  {
   "cell_type": "code",
   "execution_count": 2,
   "metadata": {},
   "outputs": [
    {
     "data": {
      "text/html": [
       "<div>\n",
       "<style scoped>\n",
       "    .dataframe tbody tr th:only-of-type {\n",
       "        vertical-align: middle;\n",
       "    }\n",
       "\n",
       "    .dataframe tbody tr th {\n",
       "        vertical-align: top;\n",
       "    }\n",
       "\n",
       "    .dataframe thead th {\n",
       "        text-align: right;\n",
       "    }\n",
       "</style>\n",
       "<table border=\"1\" class=\"dataframe\">\n",
       "  <thead>\n",
       "    <tr style=\"text-align: right;\">\n",
       "      <th></th>\n",
       "      <th>0</th>\n",
       "      <th>1</th>\n",
       "      <th>2</th>\n",
       "      <th>3</th>\n",
       "      <th>4</th>\n",
       "      <th>5</th>\n",
       "      <th>6</th>\n",
       "      <th>7</th>\n",
       "      <th>8</th>\n",
       "      <th>9</th>\n",
       "      <th>10</th>\n",
       "      <th>11</th>\n",
       "      <th>12</th>\n",
       "      <th>13</th>\n",
       "      <th>14</th>\n",
       "      <th>15</th>\n",
       "    </tr>\n",
       "  </thead>\n",
       "  <tbody>\n",
       "    <tr>\n",
       "      <th>0</th>\n",
       "      <td>0</td>\n",
       "      <td>0</td>\n",
       "      <td>\"\"</td>\n",
       "      <td>\"\"</td>\n",
       "      <td>\"\"</td>\n",
       "      <td>1470337707</td>\n",
       "      <td>\"\"</td>\n",
       "      <td>1470337707_6684</td>\n",
       "      <td>\"\"</td>\n",
       "      <td>\"کرونا کرونا کرونا\"</td>\n",
       "      <td>\"کرونا کرونا کرونا\"</td>\n",
       "      <td>1398-11-13 20:40:13</td>\n",
       "      <td>1580663413</td>\n",
       "      <td>\"1\"</td>\n",
       "      <td>کرونا کرونا کرونا</td>\n",
       "      <td>['کرونا', 'کرونا', 'کرونا']</td>\n",
       "    </tr>\n",
       "    <tr>\n",
       "      <th>1</th>\n",
       "      <td>2</td>\n",
       "      <td>2</td>\n",
       "      <td>\"\"</td>\n",
       "      <td>\"یارانه\"</td>\n",
       "      <td>\"\"</td>\n",
       "      <td>1462058741</td>\n",
       "      <td>\"\"</td>\n",
       "      <td>1462058741_58843</td>\n",
       "      <td>\"ابراز علاقه\"</td>\n",
       "      <td>\"‌ ‌ ‌‌‌ ‌ کرونا کرونا ~~~~ چی میگی میگم دوست ...</td>\n",
       "      <td>\"کرونا کرونا چی میگی میگم دوست دارم چصو کرونا ...</td>\n",
       "      <td>1398-11-18 20:39:02</td>\n",
       "      <td>1581095342</td>\n",
       "      <td>\"2\"</td>\n",
       "      <td>کرونا کرونا چی میگی میگم دوست دارم چصو کرونا ک...</td>\n",
       "      <td>['کرونا', 'کرونا', 'چی', 'میگ', 'میگ', 'دوست',...</td>\n",
       "    </tr>\n",
       "    <tr>\n",
       "      <th>2</th>\n",
       "      <td>3</td>\n",
       "      <td>3</td>\n",
       "      <td>\"\"</td>\n",
       "      <td>\"\"</td>\n",
       "      <td>\"\"</td>\n",
       "      <td>1497732081</td>\n",
       "      <td>\"\"</td>\n",
       "      <td>1497732081_549</td>\n",
       "      <td>\"\"</td>\n",
       "      <td>\"😷کرونا اینجا کرونا اونجا کرونا همه جا.\"</td>\n",
       "      <td>\"کرونا اینجا کرونا اونجا کرونا همه جا\"</td>\n",
       "      <td>1398-11-14 16:47:33</td>\n",
       "      <td>1580735853</td>\n",
       "      <td>\"57\"</td>\n",
       "      <td>کرونا اینجا کرونا اونجا کرونا همه جا</td>\n",
       "      <td>['کرونا', 'اینجا', 'کرونا', 'اونجا', 'کرونا', ...</td>\n",
       "    </tr>\n",
       "    <tr>\n",
       "      <th>3</th>\n",
       "      <td>4</td>\n",
       "      <td>4</td>\n",
       "      <td>\"\"</td>\n",
       "      <td>\"\"</td>\n",
       "      <td>\"\"</td>\n",
       "      <td>1022917137</td>\n",
       "      <td>\"ranginak97\"</td>\n",
       "      <td>1022917137_116487</td>\n",
       "      <td>\"\"</td>\n",
       "      <td>\"😷کرونا اینجا کرونا اونجا کرونا همه جا. 💉آزمای...</td>\n",
       "      <td>\"کرونا اینجا کرونا اونجا کرونا همه جا ازمایش و...</td>\n",
       "      <td>1398-11-12 14:49:57</td>\n",
       "      <td>1580555997</td>\n",
       "      <td>\"168\"</td>\n",
       "      <td>کرونا اینجا کرونا اونجا کرونا همه جا ازمایش وا...</td>\n",
       "      <td>['کرونا', 'اینجا', 'کرونا', 'اونجا', 'کرونا', ...</td>\n",
       "    </tr>\n",
       "    <tr>\n",
       "      <th>4</th>\n",
       "      <td>5</td>\n",
       "      <td>5</td>\n",
       "      <td>\"\"</td>\n",
       "      <td>\"\"</td>\n",
       "      <td>\"\"</td>\n",
       "      <td>1204349583</td>\n",
       "      <td>\"\"</td>\n",
       "      <td>1204349583_6792</td>\n",
       "      <td>\"حالت تهوع\"</td>\n",
       "      <td>\"‏-وای چقدر سرم درد می کنه +کرونا گرفتی -حالت ...</td>\n",
       "      <td>\"وای چقدر سرم درد می کنه کرونا گرفتی حالت تهوع...</td>\n",
       "      <td>1398-11-14 13:25:34</td>\n",
       "      <td>1580723734</td>\n",
       "      <td>\"8\"</td>\n",
       "      <td>وای چقدر سرم درد می کنه کرونا گرفتی حالت تهوع ...</td>\n",
       "      <td>['وای', 'چقدر', 'سرم', 'درد', 'می', 'کنه', 'کر...</td>\n",
       "    </tr>\n",
       "  </tbody>\n",
       "</table>\n",
       "</div>"
      ],
      "text/plain": [
       "   0   1   2         3   4           5             6                  7   \\\n",
       "0   0   0  \"\"        \"\"  \"\"  1470337707            \"\"    1470337707_6684   \n",
       "1   2   2  \"\"  \"یارانه\"  \"\"  1462058741            \"\"   1462058741_58843   \n",
       "2   3   3  \"\"        \"\"  \"\"  1497732081            \"\"     1497732081_549   \n",
       "3   4   4  \"\"        \"\"  \"\"  1022917137  \"ranginak97\"  1022917137_116487   \n",
       "4   5   5  \"\"        \"\"  \"\"  1204349583            \"\"    1204349583_6792   \n",
       "\n",
       "              8                                                  9   \\\n",
       "0             \"\"                                \"کرونا کرونا کرونا\"   \n",
       "1  \"ابراز علاقه\"  \"‌ ‌ ‌‌‌ ‌ کرونا کرونا ~~~~ چی میگی میگم دوست ...   \n",
       "2             \"\"           \"😷کرونا اینجا کرونا اونجا کرونا همه جا.\"   \n",
       "3             \"\"  \"😷کرونا اینجا کرونا اونجا کرونا همه جا. 💉آزمای...   \n",
       "4    \"حالت تهوع\"  \"‏-وای چقدر سرم درد می کنه +کرونا گرفتی -حالت ...   \n",
       "\n",
       "                                                  10                   11  \\\n",
       "0                                \"کرونا کرونا کرونا\"  1398-11-13 20:40:13   \n",
       "1  \"کرونا کرونا چی میگی میگم دوست دارم چصو کرونا ...  1398-11-18 20:39:02   \n",
       "2             \"کرونا اینجا کرونا اونجا کرونا همه جا\"  1398-11-14 16:47:33   \n",
       "3  \"کرونا اینجا کرونا اونجا کرونا همه جا ازمایش و...  1398-11-12 14:49:57   \n",
       "4  \"وای چقدر سرم درد می کنه کرونا گرفتی حالت تهوع...  1398-11-14 13:25:34   \n",
       "\n",
       "           12     13                                                 14  \\\n",
       "0  1580663413    \"1\"                                  کرونا کرونا کرونا   \n",
       "1  1581095342    \"2\"  کرونا کرونا چی میگی میگم دوست دارم چصو کرونا ک...   \n",
       "2  1580735853   \"57\"               کرونا اینجا کرونا اونجا کرونا همه جا   \n",
       "3  1580555997  \"168\"  کرونا اینجا کرونا اونجا کرونا همه جا ازمایش وا...   \n",
       "4  1580723734    \"8\"  وای چقدر سرم درد می کنه کرونا گرفتی حالت تهوع ...   \n",
       "\n",
       "                                                  15  \n",
       "0                        ['کرونا', 'کرونا', 'کرونا']  \n",
       "1  ['کرونا', 'کرونا', 'چی', 'میگ', 'میگ', 'دوست',...  \n",
       "2  ['کرونا', 'اینجا', 'کرونا', 'اونجا', 'کرونا', ...  \n",
       "3  ['کرونا', 'اینجا', 'کرونا', 'اونجا', 'کرونا', ...  \n",
       "4  ['وای', 'چقدر', 'سرم', 'درد', 'می', 'کنه', 'کر...  "
      ]
     },
     "execution_count": 2,
     "metadata": {},
     "output_type": "execute_result"
    }
   ],
   "source": [
    "df = pd.read_csv(\"Fulldocumentword2.csv\" , header=None)\n",
    "df.head()"
   ]
  },
  {
   "cell_type": "code",
   "execution_count": 3,
   "metadata": {},
   "outputs": [
    {
     "data": {
      "text/plain": [
       "0                               ['کرونا', 'کرونا', 'کرونا']\n",
       "1         ['کرونا', 'کرونا', 'چی', 'میگ', 'میگ', 'دوست',...\n",
       "2         ['کرونا', 'اینجا', 'کرونا', 'اونجا', 'کرونا', ...\n",
       "3         ['کرونا', 'اینجا', 'کرونا', 'اونجا', 'کرونا', ...\n",
       "4         ['وای', 'چقدر', 'سرم', 'درد', 'می', 'کنه', 'کر...\n",
       "                                ...                        \n",
       "182506    ['قدردانی', 'مامور', 'پلیس', 'ووهان', 'از', 'ت...\n",
       "182507    ['دو', 'سخنرانی', 'در', 'تهران', 'و', 'واشنگتن...\n",
       "182508    ['اخ', 'سفید', 'قرار', 'داشت&دارد', 'که', 'نوس...\n",
       "182509    ['روز', 'اول', 'سفر', 'چند', 'سال', 'بود&باش',...\n",
       "182510    ['ری', 'نه', 'تنها', 'به', 'اثبات', 'رسیده', '...\n",
       "Name: 15, Length: 182511, dtype: object"
      ]
     },
     "execution_count": 3,
     "metadata": {},
     "output_type": "execute_result"
    }
   ],
   "source": [
    "\n",
    "df[df.columns[-1]]"
   ]
  },
  {
   "cell_type": "code",
   "execution_count": 4,
   "metadata": {},
   "outputs": [
    {
     "data": {
      "text/plain": [
       "1316"
      ]
     },
     "execution_count": 4,
     "metadata": {},
     "output_type": "execute_result"
    }
   ],
   "source": [
    "#load stop words\n",
    "import codecs\n",
    "\n",
    "from hazm import Normalizer\n",
    "l = []\n",
    "with  open('persian-stopwords-master/persian', encoding='utf-8') as f:\n",
    "    for w in f.readlines():\n",
    "        l.append(w.replace('\\n',''))\n",
    "\n",
    "\n",
    "len(l)"
   ]
  },
  {
   "cell_type": "code",
   "execution_count": 5,
   "metadata": {},
   "outputs": [
    {
     "name": "stderr",
     "output_type": "stream",
     "text": [
      "c:\\users\\lion\\appdata\\local\\programs\\python\\python37\\lib\\site-packages\\sklearn\\feature_extraction\\text.py:386: UserWarning: Your stop_words may be inconsistent with your preprocessing. Tokenizing the stop words generated tokens ['آسانی', 'آسیب', 'اثر', 'احیانا', 'اخیرا', 'ازاین', 'اسلامی', 'اطلاعند', 'الاسف', 'البت', 'الظاهر', 'بااین', 'بازی', 'باوجودی', 'برآن', 'برنامه', 'بسته', 'بطوری', 'بفهمی', 'تازگی', 'تحریم', 'تدریج', 'ترتیب', 'تردید', 'ترند', 'تصریحا', 'تفاوتند', 'تند', 'توؤما', 'تول', 'تک', 'تی', 'ثالثا', 'ثانی', 'جمع', 'جمله', 'جنس', 'جوری', 'حاشیه', 'حسابی', 'حکما', 'خارج', 'خسته', 'خوبی', 'خودبه', 'خودی', 'داند', 'دراین', 'درحالی', 'درشتی', 'درصورتی', 'درعین', 'درپی', 'دسته', 'دلخواه', 'دنبال', 'دیوانه', 'ذاتا', 'ذلک', 'راجع', 'رسد', 'رغم', 'رود', 'روزه', 'روشنی', 'زده', 'زودی', 'ساده', 'سادگی', 'سازهاست', 'سالم', 'ساله', 'ست', 'سرعت', 'سمت', 'سه', 'سهوا', 'سیاه', 'شاأالله', 'شدت', 'صریحا', 'صندوق', 'ضد', 'ضمنا', 'طبق', 'طوری', 'عل', 'علاوه', 'علنا', 'علی', 'عملی', 'عینا', 'قاعدتا', 'قانونا', 'قد', 'قصد', 'لا', 'لزوما', 'مامان', 'مجموع', 'مخصوصا', 'مد', 'مذهبی', 'مراتب', 'مشترکا', 'مع', 'مکررا', 'ناراضی', 'ناچار', 'نفهمی', 'نهایت', 'نوعا', 'نیازمندانه', 'هاست', 'هدف', 'هرحال', 'هق', 'وابسته', 'واقع', 'وجه', 'وحشت', 'وسط', 'وضوح', 'پاره', 'پاعین', 'پایین', 'پذیرند', 'پشتوانه', 'پهن', 'چاله', 'چشم', 'کرات', 'کما', 'کنان', 'کنایه', 'گرمی', 'گویان', 'یواش'] not in stop_words.\n",
      "  'stop_words.' % sorted(inconsistent))\n"
     ]
    }
   ],
   "source": [
    "from sklearn.decomposition import TruncatedSVD\n",
    "from sklearn.feature_extraction.text import TfidfVectorizer\n",
    "\n",
    "vectorizer = TfidfVectorizer(stop_words=l)\n",
    "X = vectorizer.fit_transform(df[df.columns[-1]] )\n",
    "ncomp=128\n",
    "svd = TruncatedSVD(n_components=ncomp,algorithm='arpack', random_state=42)\n",
    "dimX = svd.fit_transform(X)"
   ]
  },
  {
   "cell_type": "code",
   "execution_count": 6,
   "metadata": {},
   "outputs": [
    {
     "data": {
      "text/plain": [
       "(182511, 128)"
      ]
     },
     "execution_count": 6,
     "metadata": {},
     "output_type": "execute_result"
    }
   ],
   "source": [
    "dimX.shape"
   ]
  },
  {
   "cell_type": "markdown",
   "metadata": {},
   "source": [
    "## AutoEncoder"
   ]
  },
  {
   "cell_type": "code",
   "execution_count": 7,
   "metadata": {},
   "outputs": [],
   "source": [
    "import torch\n",
    "import torchvision\n",
    "from torch import nn\n",
    "from torch.autograd import Variable\n",
    "from torch.utils.data import DataLoader\n",
    "from torchvision import transforms\n",
    "from torchvision.datasets import MNIST\n",
    "from torchvision.utils import save_image"
   ]
  },
  {
   "cell_type": "code",
   "execution_count": null,
   "metadata": {},
   "outputs": [],
   "source": [
    "# torch.cuda.is_available()\n",
    "device = torch.device(\"cuda:0\")\n",
    "# device\n",
    "\n",
    "torch.cuda.set_device(0)\n",
    "\n",
    "# torch.cuda.current_device()\n",
    "# torch.cuda.device_count()\n",
    "\n",
    "torch.cuda.get_device_name(torch.cuda.current_device())"
   ]
  },
  {
   "cell_type": "code",
   "execution_count": 13,
   "metadata": {},
   "outputs": [],
   "source": [
    "# input_dim = X_train_counts.shape[1]\n",
    "# encoding_dim = 32\n",
    "\n",
    "input_dim = dimX.shape[1]\n",
    "encoding_dim = 32"
   ]
  },
  {
   "cell_type": "code",
   "execution_count": null,
   "metadata": {},
   "outputs": [],
   "source": [
    "input_dim"
   ]
  },
  {
   "cell_type": "code",
   "execution_count": 11,
   "metadata": {},
   "outputs": [],
   "source": [
    "num_epochs = 10000\n",
    "batch_size = 2048\n",
    "learning_rate = 1e-4"
   ]
  },
  {
   "cell_type": "code",
   "execution_count": null,
   "metadata": {},
   "outputs": [],
   "source": [
    "\n",
    "# data = spy_sparse2torch_sparse(X_train_counts)"
   ]
  },
  {
   "cell_type": "code",
   "execution_count": null,
   "metadata": {},
   "outputs": [],
   "source": [
    "# dataloader = DataLoader(data, batch_size=batch_size, shuffle=True)"
   ]
  },
  {
   "cell_type": "code",
   "execution_count": 9,
   "metadata": {},
   "outputs": [],
   "source": [
    "# class autoencoder(nn.Module):\n",
    "#     def __init__(self):\n",
    "#         super(autoencoder , self).__init__()\n",
    "        \n",
    "#         self.encoder = nn.Sequential(\n",
    "#             nn.Linear(input_dim , 512),\n",
    "#             nn.ReLU(True),\n",
    "#             nn.Linear(512 , 256),\n",
    "#             nn.ReLU(True),\n",
    "#             nn.Linear(256 , encoding_dim))\n",
    "        \n",
    "#         self.decoder = nn.Sequential(\n",
    "#             nn.Linear(encoding_dim , 256),\n",
    "#             nn.ReLU(True),\n",
    "#             nn.Linear(256 , 512),\n",
    "#             nn.ReLU(True),\n",
    "#             nn.Linear(512 , input_dim),\n",
    "#             nn.Tanh())\n",
    "        \n",
    "#     def forward(self , x):\n",
    "#         x = self.encoder(x)\n",
    "#         x = self.decoder(x)\n",
    "#         return x\n",
    "    \n",
    "class autoencoder(nn.Module):\n",
    "    def __init__(self):\n",
    "        super(autoencoder , self).__init__()\n",
    "        \n",
    "        self.encoder = nn.Sequential(\n",
    "            nn.Linear(input_dim , 64),\n",
    "            nn.ReLU(True),\n",
    "            nn.Dropout(p=0.2),\n",
    "            nn.Linear(64 , encoding_dim))\n",
    "        \n",
    "        self.decoder = nn.Sequential(\n",
    "            nn.Linear(encoding_dim , 64),\n",
    "            nn.ReLU(True),\n",
    "            nn.Dropout(p=0.2),\n",
    "            nn.Linear(64 , input_dim),\n",
    "            nn.Tanh())\n",
    "        \n",
    "    def forward(self , x):\n",
    "        x = self.encoder(x)\n",
    "        x = self.decoder(x)\n",
    "        return x\n",
    "    "
   ]
  },
  {
   "cell_type": "code",
   "execution_count": 18,
   "metadata": {},
   "outputs": [],
   "source": [
    "dimX=dimX.astype('float32')"
   ]
  },
  {
   "cell_type": "code",
   "execution_count": null,
   "metadata": {},
   "outputs": [],
   "source": [
    "import time\n",
    "torch.rand(1).to(device)"
   ]
  },
  {
   "cell_type": "code",
   "execution_count": null,
   "metadata": {},
   "outputs": [],
   "source": [
    "model = autoencoder().cuda()\n",
    "print(summary(model, (input_dim,) ))\n",
    "historyloss=[]"
   ]
  },
  {
   "cell_type": "code",
   "execution_count": null,
   "metadata": {},
   "outputs": [],
   "source": [
    "\n",
    "from torchsummary import summary\n",
    "\n",
    "criterion = nn.MSELoss()\n",
    "optimizer = torch.optim.Adam(\n",
    "    model.parameters() , lr = learning_rate , weight_decay=1e-5)\n",
    "n = dimX.shape[0]\n",
    "for epoch in range(num_epochs):\n",
    "    i=0 \n",
    "    for i in range(n//batch_size):\n",
    "        t = time.time();\n",
    "#         inpx = data.to_dense()\n",
    "        inpx =  torch.from_numpy(dimX[i*batch_size : (i+1)*batch_size])\n",
    "        inpx = Variable(inpx).cuda()#using gpu vram\n",
    "        \n",
    "        #-----------forward-----------\n",
    "        output = model(inpx)\n",
    "        loss = criterion(output , inpx)\n",
    "        \n",
    "        #-------------backward--------\n",
    "        optimizer.zero_grad()\n",
    "        loss.backward()\n",
    "        optimizer.step()\n",
    "#         if(i%10==0):\n",
    "#             print(\"time pased {} to process \".format(time.time()-t ))\n",
    "        i+=1\n",
    "    #------------log-----------------\n",
    "    if(epoch%50==0):\n",
    "        print(\"epoch [{}/{}] , loss:{}\".\n",
    "              format(epoch+1 , num_epochs,loss))\n",
    "    historyloss.append(loss)    \n",
    "        "
   ]
  },
  {
   "cell_type": "code",
   "execution_count": null,
   "metadata": {},
   "outputs": [],
   "source": [
    "plt.plot(range(len(historyloss)) ,historyloss ,  )"
   ]
  },
  {
   "cell_type": "code",
   "execution_count": null,
   "metadata": {},
   "outputs": [],
   "source": [
    "torch.save(model.state_dict(), './sim_autoencoder.pth')"
   ]
  },
  {
   "cell_type": "code",
   "execution_count": null,
   "metadata": {},
   "outputs": [],
   "source": [
    "# device = torch.device(\"cpu\")"
   ]
  },
  {
   "cell_type": "code",
   "execution_count": null,
   "metadata": {},
   "outputs": [],
   "source": [
    "model.cuda()"
   ]
  },
  {
   "cell_type": "code",
   "execution_count": 15,
   "metadata": {},
   "outputs": [
    {
     "data": {
      "text/plain": [
       "<All keys matched successfully>"
      ]
     },
     "execution_count": 15,
     "metadata": {},
     "output_type": "execute_result"
    }
   ],
   "source": [
    "modelcpu = autoencoder().cpu()\n",
    "modelcpu.load_state_dict(torch.load('./sim_autoencoder.pth'))\n"
   ]
  },
  {
   "cell_type": "code",
   "execution_count": null,
   "metadata": {},
   "outputs": [],
   "source": [
    "model.encoder.cuda()"
   ]
  },
  {
   "cell_type": "code",
   "execution_count": 19,
   "metadata": {},
   "outputs": [],
   "source": [
    "# inputready = Variable(torch.from_numpy(dimX)).cuda()\n",
    "# encoder = model.encoder.cuda()\n",
    "data=modelcpu.encoder(torch.from_numpy(dimX)).detach().numpy()"
   ]
  },
  {
   "cell_type": "code",
   "execution_count": 28,
   "metadata": {},
   "outputs": [
    {
     "data": {
      "text/plain": [
       "(182511, 32)"
      ]
     },
     "execution_count": 28,
     "metadata": {},
     "output_type": "execute_result"
    }
   ],
   "source": [
    "data.shape"
   ]
  },
  {
   "cell_type": "code",
   "execution_count": 26,
   "metadata": {},
   "outputs": [
    {
     "name": "stderr",
     "output_type": "stream",
     "text": [
      "c:\\users\\lion\\appdata\\local\\programs\\python\\python37\\lib\\site-packages\\ipykernel_launcher.py:8: ConvergenceWarning: Number of distinct clusters (1) found smaller than n_clusters (10). Possibly due to duplicate points in X.\n",
      "  \n"
     ]
    },
    {
     "data": {
      "text/plain": [
       "-0.0"
      ]
     },
     "execution_count": 26,
     "metadata": {},
     "output_type": "execute_result"
    }
   ],
   "source": [
    "from sklearn.cluster import KMeans\n",
    "nc=10\n",
    "# losses = []\n",
    "# for nc in range(50,100):\n",
    "#     kmeans = KMeans(n_clusters=nc, random_state=0).fit(dimX)\n",
    "\n",
    "#     losses.append((nc,kmeans.score(dimX)))\n",
    "kmeans = KMeans(n_clusters=nc, random_state=0).fit(data)\n",
    "kmeans.score(data)"
   ]
  },
  {
   "cell_type": "code",
   "execution_count": null,
   "metadata": {},
   "outputs": [],
   "source": [
    "plt.plot([x[0] for x in losses] , [x[1] for x in losses] , 'rp')\n",
    "plt.show()"
   ]
  },
  {
   "cell_type": "markdown",
   "metadata": {},
   "source": [
    "## visualization"
   ]
  },
  {
   "cell_type": "code",
   "execution_count": 23,
   "metadata": {},
   "outputs": [],
   "source": [
    "import random\n",
    "from sklearn.manifold import TSNE\n",
    "sample_n = 10000\n",
    "l=random.sample(list(df.index),sample_n)\n",
    "\n",
    "datasample = [df.iloc[x][df.columns[-1]] for x in l]\n",
    "# pred=pipe.predict()\n",
    "X_embedded = TSNE(n_components=2).fit_transform(\n",
    "    modelcpu.encoder(torch.from_numpy(\n",
    "    svd.transform(vectorizer.transform(datasample)).astype('float32')\n",
    "    )).detach().numpy()\n",
    "                 )"
   ]
  },
  {
   "cell_type": "code",
   "execution_count": 30,
   "metadata": {},
   "outputs": [],
   "source": [
    "datapiped = modelcpu.encoder(torch.from_numpy(\n",
    "    svd.transform(vectorizer.transform(datasample)).astype('float32')\n",
    "    )).detach().numpy()"
   ]
  },
  {
   "cell_type": "code",
   "execution_count": 31,
   "metadata": {},
   "outputs": [
    {
     "data": {
      "image/png": "[encoded data removed]",
      "text/plain": [
       "<Figure size 1440x720 with 1 Axes>"
      ]
     },
     "metadata": {
      "needs_background": "light"
     },
     "output_type": "display_data"
    }
   ],
   "source": [
    "# pred=pipe.predict(datasample)\n",
    "plt.figure(figsize=(20,10))\n",
    "plt.scatter(X_embedded[:,0] , X_embedded[:,1]   )\n",
    "plt.show()"
   ]
  },
  {
   "cell_type": "code",
   "execution_count": null,
   "metadata": {},
   "outputs": [],
   "source": []
  }
 ],
 "metadata": {
  "kernelspec": {
   "display_name": "Python 3",
   "language": "python",
   "name": "python3"
  },
  "language_info": {
   "codemirror_mode": {
    "name": "ipython",
    "version": 3
   },
   "file_extension": ".py",
   "mimetype": "text/x-python",
   "name": "python",
   "nbconvert_exporter": "python",
   "pygments_lexer": "ipython3",
   "version": "3.7.9"
  }
 },
 "nbformat": 4,
 "nbformat_minor": 4
}
